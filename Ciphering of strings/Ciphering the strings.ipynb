{
 "cells": [
  {
   "cell_type": "code",
   "execution_count": 1,
   "metadata": {
    "collapsed": true
   },
   "outputs": [],
   "source": [
    "import sys\n",
    "import string"
   ]
  },
  {
   "cell_type": "code",
   "execution_count": 3,
   "metadata": {},
   "outputs": [
    {
     "name": "stdout",
     "output_type": "stream",
     "text": [
      "Please enter any number of your choice :24\n",
      "Please enter any number of your choice :29\n"
     ]
    }
   ],
   "source": [
    "m_user = eval(input(\"Please enter any number of your choice :\"))\n",
    "n_user = eval(input(\"Please enter any number of your choice :\"))"
   ]
  },
  {
   "cell_type": "code",
   "execution_count": 4,
   "metadata": {},
   "outputs": [
    {
     "name": "stdout",
     "output_type": "stream",
     "text": [
      "X\n",
      "Y\n",
      "Z\n",
      "AA\n",
      "AB\n",
      "AC\n"
     ]
    }
   ],
   "source": [
    "def chartoascii(p,q):\n",
    "    \n",
    "    for i in range(p,(q+1)):\n",
    "        \n",
    "        div = i\n",
    "        \n",
    "        string = \"\"\n",
    "        \n",
    "        while div>0:\n",
    "            \n",
    "            mod=(div-1)%26\n",
    "            string=chr(65+mod)+string\n",
    "            div=int((div-mod)/26)\n",
    "            \n",
    "        print (string)\n",
    "        \n",
    "    return None\n",
    "\n",
    "chartoascii(m_user,n_user)"
   ]
  },
  {
   "cell_type": "code",
   "execution_count": null,
   "metadata": {
    "collapsed": true
   },
   "outputs": [],
   "source": []
  }
 ],
 "metadata": {
  "kernelspec": {
   "display_name": "Python 3",
   "language": "python",
   "name": "python3"
  },
  "language_info": {
   "codemirror_mode": {
    "name": "ipython",
    "version": 3
   },
   "file_extension": ".py",
   "mimetype": "text/x-python",
   "name": "python",
   "nbconvert_exporter": "python",
   "pygments_lexer": "ipython3",
   "version": "3.6.3"
  }
 },
 "nbformat": 4,
 "nbformat_minor": 2
}
