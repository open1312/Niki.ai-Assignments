{
 "cells": [
  {
   "cell_type": "code",
   "execution_count": 1,
   "metadata": {
    "collapsed": true
   },
   "outputs": [],
   "source": [
    "import sys\n",
    "from math import sqrt; from itertools import count, islice"
   ]
  },
  {
   "cell_type": "code",
   "execution_count": 2,
   "metadata": {},
   "outputs": [
    {
     "name": "stdout",
     "output_type": "stream",
     "text": [
      "Please Enter some number: 12\n"
     ]
    }
   ],
   "source": [
    "threshold = 100000\n",
    "input_variable = eval(input(\"Please Enter some number: \"))"
   ]
  },
  {
   "cell_type": "code",
   "execution_count": 3,
   "metadata": {},
   "outputs": [
    {
     "data": {
      "text/plain": [
       "False"
      ]
     },
     "execution_count": 3,
     "metadata": {},
     "output_type": "execute_result"
    }
   ],
   "source": [
    "def prime_number(n):\n",
    "    \n",
    "    return n > 1 and all(n%i for i in islice(count(2), int(sqrt(n)-1)))\n",
    "\n",
    "\n",
    "prime_number(input_variable)"
   ]
  },
  {
   "cell_type": "code",
   "execution_count": 4,
   "metadata": {},
   "outputs": [
    {
     "name": "stdout",
     "output_type": "stream",
     "text": [
      "The factors of 12 is : 2\n",
      "The factors of 12 is : 3\n",
      "The factors of 12 is : 4\n",
      "The factors of 12 is : 6\n",
      "The factors of 12 is : 12\n"
     ]
    }
   ],
   "source": [
    "def factorial():\n",
    "    \n",
    "    if threshold <= input_variable:\n",
    "        \n",
    "        print (\"Please enter some smaller number than 1,00,000!!!\")\n",
    "        \n",
    "    else :\n",
    "        \n",
    "        for i in range(2, input_variable+1):\n",
    "            \n",
    "            if input_variable%i ==0:\n",
    "                \n",
    "                print (\"The factors of\",input_variable,\"is :\", i)\n",
    "            \n",
    "factorial()"
   ]
  },
  {
   "cell_type": "code",
   "execution_count": null,
   "metadata": {
    "collapsed": true
   },
   "outputs": [],
   "source": []
  }
 ],
 "metadata": {
  "kernelspec": {
   "display_name": "Python 3",
   "language": "python",
   "name": "python3"
  },
  "language_info": {
   "codemirror_mode": {
    "name": "ipython",
    "version": 3
   },
   "file_extension": ".py",
   "mimetype": "text/x-python",
   "name": "python",
   "nbconvert_exporter": "python",
   "pygments_lexer": "ipython3",
   "version": "3.6.3"
  }
 },
 "nbformat": 4,
 "nbformat_minor": 2
}
